{
  "nbformat": 4,
  "nbformat_minor": 0,
  "metadata": {
    "colab": {
      "name": "HackerRank Problem.ipynb",
      "provenance": [],
      "authorship_tag": "ABX9TyNWn4uYq82SvC5gH3zLvOD7",
      "include_colab_link": true
    },
    "kernelspec": {
      "name": "python3",
      "display_name": "Python 3"
    },
    "language_info": {
      "name": "python"
    }
  },
  "cells": [
    {
      "cell_type": "markdown",
      "metadata": {
        "id": "view-in-github",
        "colab_type": "text"
      },
      "source": [
        "<a href=\"https://colab.research.google.com/github/dubeyshubham786/Hacker_rank_Python/blob/main/HackerRank_Problem.ipynb\" target=\"_parent\"><img src=\"https://colab.research.google.com/assets/colab-badge.svg\" alt=\"Open In Colab\"/></a>"
      ]
    },
    {
      "cell_type": "markdown",
      "metadata": {
        "id": "WbcJbwer6IXG"
      },
      "source": [
        "#All the practice problem of Python from HackerRank."
      ]
    },
    {
      "cell_type": "markdown",
      "metadata": {
        "id": "8aoPKIwA8Rys"
      },
      "source": [
        "### **Problem 1**. Print \"Hello, World!\""
      ]
    },
    {
      "cell_type": "code",
      "metadata": {
        "id": "PJ3lhqdP5kI9",
        "colab": {
          "base_uri": "https://localhost:8080/"
        },
        "outputId": "24de7e40-0b7a-4b57-aafe-47c87cf9f1fe"
      },
      "source": [
        "print(\"Hello, World!\")"
      ],
      "execution_count": null,
      "outputs": [
        {
          "output_type": "stream",
          "name": "stdout",
          "text": [
            "Hello, World!\n"
          ]
        }
      ]
    },
    {
      "cell_type": "markdown",
      "metadata": {
        "id": "RgXXzy2A8ydf"
      },
      "source": [
        "###**Problem 2.** Given an integer,n, perform the following conditional actions:\n",
        "###If n is odd, print 'Weird'\n",
        "###If n is even and in the inclusive range of 2 to 5, print 'Not Weird'\n",
        "###If n is even and in the inclusive range of 6 to 20, print 'Weird'\n",
        "###If n is even and greater than 20 , print 'Not Weird'\n",
        "for full problem click [here](https://www.hackerrank.com/challenges/py-if-else/problem)"
      ]
    },
    {
      "cell_type": "code",
      "metadata": {
        "id": "cmo7lYts8xbs",
        "colab": {
          "base_uri": "https://localhost:8080/"
        },
        "outputId": "750d078c-6067-4bf6-9a62-055c3477ec4f"
      },
      "source": [
        "n = int(input())\n",
        "n>=0 and n<=100\n",
        "if n%2!=0:\n",
        "  print('Weird')\n",
        "else:\n",
        "  if n>=2 and n<=5:\n",
        "    print('Not Weird')\n",
        "  elif n>=6 and n<=20:\n",
        "    print('Weird')\n",
        "  else:\n",
        "    print('Not Weird')"
      ],
      "execution_count": null,
      "outputs": [
        {
          "output_type": "stream",
          "name": "stdout",
          "text": [
            "5\n",
            "Weird\n"
          ]
        }
      ]
    },
    {
      "cell_type": "markdown",
      "metadata": {
        "id": "KLiVj5yDT_C-"
      },
      "source": [
        "###**Problem 3**. The provided code stub reads two integers from STDIN,  and . Add code to print three lines where:\n",
        "###The first line contains the sum of the two numbers.\n",
        "###The second line contains the difference of the two numbers (first - second).\n",
        "###The third line contains the product of the two numbers.\n",
        "###for full problem click [here](https://www.hackerrank.com/challenges/python-arithmetic-operators/problem)"
      ]
    },
    {
      "cell_type": "code",
      "metadata": {
        "id": "QGBnB-Wv5mM8",
        "colab": {
          "base_uri": "https://localhost:8080/"
        },
        "outputId": "ae75ef93-34c3-462e-e711-a77d4ce1bf87"
      },
      "source": [
        "if __name__ == '__main__':\n",
        "    a = int(input())\n",
        "    b = int(input())\n",
        "    result1 = a + b\n",
        "    result2 = a - b\n",
        "    result3 = a*b\n",
        "    print(result1)\n",
        "    print(result2)\n",
        "    print(result3)"
      ],
      "execution_count": null,
      "outputs": [
        {
          "output_type": "stream",
          "name": "stdout",
          "text": [
            "4\n",
            "5\n",
            "9\n",
            "-1\n",
            "20\n"
          ]
        }
      ]
    },
    {
      "cell_type": "code",
      "metadata": {
        "id": "7PZKd9E-5mFj"
      },
      "source": [
        ""
      ],
      "execution_count": null,
      "outputs": []
    },
    {
      "cell_type": "markdown",
      "metadata": {
        "id": "uSGhCH7O2jZF"
      },
      "source": [
        "###**Problem 4**:The provided code stub reads two integers, a and b , from STDIN.\n",
        "###Add logic to print two lines. The first line should contain the result of\n",
        "###integer division, a//b. The second line should contain the result of float ###division a/b .\n",
        "\n",
        "###No rounding or formatting is necessary.\n",
        "###for full problem click [here](https://www.hackerrank.com/challenges/python-division/problem)"
      ]
    },
    {
      "cell_type": "code",
      "metadata": {
        "id": "B2Ns0nPi5l9-",
        "colab": {
          "base_uri": "https://localhost:8080/"
        },
        "outputId": "7e4ed7c3-6365-495c-b376-5ca2665c6a85"
      },
      "source": [
        "if __name__ == '__main__':\n",
        "    a = int(input())\n",
        "    b = int(input())\n",
        "    result1 = a//b\n",
        "    result2 = a/b\n",
        "    print(result1)\n",
        "    print(result2)"
      ],
      "execution_count": null,
      "outputs": [
        {
          "output_type": "stream",
          "name": "stdout",
          "text": [
            "8\n",
            "5\n",
            "1\n",
            "1.6\n"
          ]
        }
      ]
    },
    {
      "cell_type": "markdown",
      "metadata": {
        "id": "3W7EPWc5A89C"
      },
      "source": [
        "###**Problem 5**: The provided code stub reads and integer,n, from STDIN. For all non-negative integers i<n, print i^2.\n",
        "for full problem click [here](https://www.hackerrank.com/challenges/python-loops/problem)\n"
      ]
    },
    {
      "cell_type": "code",
      "metadata": {
        "id": "tRdFoxDU5l1S",
        "colab": {
          "base_uri": "https://localhost:8080/"
        },
        "outputId": "49a74907-4946-4253-e0ee-be319d583993"
      },
      "source": [
        "n = int(input())\n",
        "list_of_integer = list(range(n))\n",
        "for i in list_of_integer:\n",
        "  x = i**2\n",
        "  print(x)"
      ],
      "execution_count": 4,
      "outputs": [
        {
          "output_type": "stream",
          "name": "stdout",
          "text": [
            "5\n",
            "0\n",
            "1\n",
            "4\n",
            "9\n",
            "16\n"
          ]
        }
      ]
    },
    {
      "cell_type": "markdown",
      "metadata": {
        "id": "F4r-SmW2DGFo"
      },
      "source": [
        "###**Problem 6**:"
      ]
    },
    {
      "cell_type": "code",
      "metadata": {
        "id": "80stFVmI5lqr"
      },
      "source": [
        ""
      ],
      "execution_count": null,
      "outputs": []
    },
    {
      "cell_type": "code",
      "metadata": {
        "id": "dywumJRY5lfH"
      },
      "source": [
        ""
      ],
      "execution_count": null,
      "outputs": []
    },
    {
      "cell_type": "code",
      "metadata": {
        "id": "6ZTp1FkN5lL-"
      },
      "source": [
        ""
      ],
      "execution_count": null,
      "outputs": []
    }
  ]
}