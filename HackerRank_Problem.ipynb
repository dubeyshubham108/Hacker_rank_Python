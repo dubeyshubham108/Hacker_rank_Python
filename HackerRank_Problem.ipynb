{
  "nbformat": 4,
  "nbformat_minor": 0,
  "metadata": {
    "colab": {
      "name": "HackerRank Problem.ipynb",
      "provenance": [],
      "authorship_tag": "ABX9TyPvOPHtMTiDdwFDpbeioKY5",
      "include_colab_link": true
    },
    "kernelspec": {
      "name": "python3",
      "display_name": "Python 3"
    },
    "language_info": {
      "name": "python"
    }
  },
  "cells": [
    {
      "cell_type": "markdown",
      "metadata": {
        "id": "view-in-github",
        "colab_type": "text"
      },
      "source": [
        "<a href=\"https://colab.research.google.com/github/dubeyshubham786/Hacker_rank_Python/blob/main/HackerRank_Problem.ipynb\" target=\"_parent\"><img src=\"https://colab.research.google.com/assets/colab-badge.svg\" alt=\"Open In Colab\"/></a>"
      ]
    },
    {
      "cell_type": "markdown",
      "metadata": {
        "id": "WbcJbwer6IXG"
      },
      "source": [
        "#All the practice problem of Python from HackerRank."
      ]
    },
    {
      "cell_type": "markdown",
      "metadata": {
        "id": "8aoPKIwA8Rys"
      },
      "source": [
        "### **Problem 1**. Print \"Hello, World!\""
      ]
    },
    {
      "cell_type": "code",
      "metadata": {
        "id": "PJ3lhqdP5kI9",
        "colab": {
          "base_uri": "https://localhost:8080/"
        },
        "outputId": "6f290faa-c838-4253-e111-6b96a25aa96c"
      },
      "source": [
        "print(\"Hello, World!\")"
      ],
      "execution_count": null,
      "outputs": [
        {
          "output_type": "stream",
          "name": "stdout",
          "text": [
            "Hello, World!\n"
          ]
        }
      ]
    },
    {
      "cell_type": "markdown",
      "metadata": {
        "id": "RgXXzy2A8ydf"
      },
      "source": [
        "###**Problem 2.** Given an integer,n, perform the following conditional actions:\n",
        "###If n is odd, print 'Weird'\n",
        "###If n is even and in the inclusive range of 2 to 5, print 'Not Weird'\n",
        "###If n is even and in the inclusive range of 6 to 20, print 'Weird'\n",
        "###If n is even and greater than 20 , print 'Not Weird'\n",
        "for full problem click [here](https://www.hackerrank.com/challenges/py-if-else/problem)"
      ]
    },
    {
      "cell_type": "code",
      "metadata": {
        "id": "cmo7lYts8xbs",
        "colab": {
          "base_uri": "https://localhost:8080/"
        },
        "outputId": "37ef139f-6128-4cf0-da88-f39017b8d338"
      },
      "source": [
        "n = int(input())\n",
        "n>=0 and n<=100\n",
        "if n%2!=0:\n",
        "  print('Weird')\n",
        "else:\n",
        "  if n>=2 and n<=5:\n",
        "    print('Not Weird')\n",
        "  elif n>=6 and n<=20:\n",
        "    print('Weird')\n",
        "  else:\n",
        "    print('Not Weird')"
      ],
      "execution_count": 1,
      "outputs": [
        {
          "output_type": "stream",
          "name": "stdout",
          "text": [
            "5\n",
            "Weird\n"
          ]
        }
      ]
    },
    {
      "cell_type": "markdown",
      "metadata": {
        "id": "KLiVj5yDT_C-"
      },
      "source": [
        "##Problem 3. The provided code stub reads two integers from STDIN,  and . Add code to print three lines where:\n",
        "##The first line contains the sum of the two numbers.\n",
        "##The second line contains the difference of the two numbers (first - second).\n",
        "##The third line contains the product of the two numbers.\n",
        "###for ful problem click [here](https://www.hackerrank.com/challenges/python-arithmetic-operators/problem)"
      ]
    },
    {
      "cell_type": "code",
      "metadata": {
        "id": "QGBnB-Wv5mM8"
      },
      "source": [
        ""
      ],
      "execution_count": null,
      "outputs": []
    },
    {
      "cell_type": "code",
      "metadata": {
        "id": "7PZKd9E-5mFj"
      },
      "source": [
        ""
      ],
      "execution_count": null,
      "outputs": []
    },
    {
      "cell_type": "code",
      "metadata": {
        "id": "B2Ns0nPi5l9-"
      },
      "source": [
        ""
      ],
      "execution_count": null,
      "outputs": []
    },
    {
      "cell_type": "code",
      "metadata": {
        "id": "tRdFoxDU5l1S"
      },
      "source": [
        ""
      ],
      "execution_count": null,
      "outputs": []
    },
    {
      "cell_type": "code",
      "metadata": {
        "id": "80stFVmI5lqr"
      },
      "source": [
        ""
      ],
      "execution_count": null,
      "outputs": []
    },
    {
      "cell_type": "code",
      "metadata": {
        "id": "dywumJRY5lfH"
      },
      "source": [
        ""
      ],
      "execution_count": null,
      "outputs": []
    },
    {
      "cell_type": "code",
      "metadata": {
        "id": "6ZTp1FkN5lL-"
      },
      "source": [
        ""
      ],
      "execution_count": null,
      "outputs": []
    }
  ]
}