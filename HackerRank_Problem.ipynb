{
  "nbformat": 4,
  "nbformat_minor": 0,
  "metadata": {
    "colab": {
      "name": "HackerRank Problem.ipynb",
      "provenance": [],
      "authorship_tag": "ABX9TyP7KtoGq80o7aIAKB03j99X",
      "include_colab_link": true
    },
    "kernelspec": {
      "name": "python3",
      "display_name": "Python 3"
    },
    "language_info": {
      "name": "python"
    }
  },
  "cells": [
    {
      "cell_type": "markdown",
      "metadata": {
        "id": "view-in-github",
        "colab_type": "text"
      },
      "source": [
        "<a href=\"https://colab.research.google.com/github/dubeyshubham786/Hacker_rank_Python/blob/main/HackerRank_Problem.ipynb\" target=\"_parent\"><img src=\"https://colab.research.google.com/assets/colab-badge.svg\" alt=\"Open In Colab\"/></a>"
      ]
    },
    {
      "cell_type": "markdown",
      "metadata": {
        "id": "WbcJbwer6IXG"
      },
      "source": [
        "#**HACKER-RANK PROBLEM**"
      ]
    },
    {
      "cell_type": "markdown",
      "metadata": {
        "id": "8aoPKIwA8Rys"
      },
      "source": [
        "# **Problem 1**. Print \"Hello, World!\""
      ]
    },
    {
      "cell_type": "code",
      "metadata": {
        "id": "PJ3lhqdP5kI9",
        "colab": {
          "base_uri": "https://localhost:8080/"
        },
        "outputId": "24de7e40-0b7a-4b57-aafe-47c87cf9f1fe"
      },
      "source": [
        "print(\"Hello, World!\")"
      ],
      "execution_count": null,
      "outputs": [
        {
          "output_type": "stream",
          "name": "stdout",
          "text": [
            "Hello, World!\n"
          ]
        }
      ]
    },
    {
      "cell_type": "markdown",
      "metadata": {
        "id": "RgXXzy2A8ydf"
      },
      "source": [
        "#**Problem 2.** If else statement\n",
        "for full problem click [here](https://www.hackerrank.com/challenges/py-if-else/problem)"
      ]
    },
    {
      "cell_type": "code",
      "metadata": {
        "id": "cmo7lYts8xbs",
        "colab": {
          "base_uri": "https://localhost:8080/"
        },
        "outputId": "750d078c-6067-4bf6-9a62-055c3477ec4f"
      },
      "source": [
        "n = int(input())\n",
        "n>=0 and n<=100\n",
        "if n%2!=0:\n",
        "  print('Weird')\n",
        "else:\n",
        "  if n>=2 and n<=5:\n",
        "    print('Not Weird')\n",
        "  elif n>=6 and n<=20:\n",
        "    print('Weird')\n",
        "  else:\n",
        "    print('Not Weird')"
      ],
      "execution_count": null,
      "outputs": [
        {
          "output_type": "stream",
          "name": "stdout",
          "text": [
            "5\n",
            "Weird\n"
          ]
        }
      ]
    },
    {
      "cell_type": "markdown",
      "metadata": {
        "id": "KLiVj5yDT_C-"
      },
      "source": [
        "#**Problem 3**. Arithmetic Operation\n",
        "###for full problem click [here](https://www.hackerrank.com/challenges/python-arithmetic-operators/problem)"
      ]
    },
    {
      "cell_type": "code",
      "metadata": {
        "id": "QGBnB-Wv5mM8",
        "colab": {
          "base_uri": "https://localhost:8080/"
        },
        "outputId": "ae75ef93-34c3-462e-e711-a77d4ce1bf87"
      },
      "source": [
        "if __name__ == '__main__':\n",
        "    a = int(input())\n",
        "    b = int(input())\n",
        "    result1 = a + b\n",
        "    result2 = a - b\n",
        "    result3 = a*b\n",
        "    print(result1)\n",
        "    print(result2)\n",
        "    print(result3)"
      ],
      "execution_count": null,
      "outputs": [
        {
          "output_type": "stream",
          "name": "stdout",
          "text": [
            "4\n",
            "5\n",
            "9\n",
            "-1\n",
            "20\n"
          ]
        }
      ]
    },
    {
      "cell_type": "markdown",
      "metadata": {
        "id": "uSGhCH7O2jZF"
      },
      "source": [
        "#**Problem 4**: Division\n",
        "###for full problem click [here](https://www.hackerrank.com/challenges/python-division/problem)"
      ]
    },
    {
      "cell_type": "code",
      "metadata": {
        "id": "B2Ns0nPi5l9-",
        "colab": {
          "base_uri": "https://localhost:8080/"
        },
        "outputId": "7e4ed7c3-6365-495c-b376-5ca2665c6a85"
      },
      "source": [
        "if __name__ == '__main__':\n",
        "    a = int(input())\n",
        "    b = int(input())\n",
        "    result1 = a//b\n",
        "    result2 = a/b\n",
        "    print(result1)\n",
        "    print(result2)"
      ],
      "execution_count": null,
      "outputs": [
        {
          "output_type": "stream",
          "name": "stdout",
          "text": [
            "8\n",
            "5\n",
            "1\n",
            "1.6\n"
          ]
        }
      ]
    },
    {
      "cell_type": "markdown",
      "metadata": {
        "id": "3W7EPWc5A89C"
      },
      "source": [
        "#**Problem 5**: Loops\n",
        "###for full problem click [here](https://www.hackerrank.com/challenges/python-loops/problem)\n"
      ]
    },
    {
      "cell_type": "code",
      "metadata": {
        "id": "tRdFoxDU5l1S",
        "colab": {
          "base_uri": "https://localhost:8080/"
        },
        "outputId": "49a74907-4946-4253-e0ee-be319d583993"
      },
      "source": [
        "n = int(input())\n",
        "list_of_integer = list(range(n))\n",
        "for i in list_of_integer:\n",
        "  x = i**2\n",
        "  print(x)"
      ],
      "execution_count": null,
      "outputs": [
        {
          "output_type": "stream",
          "name": "stdout",
          "text": [
            "5\n",
            "0\n",
            "1\n",
            "4\n",
            "9\n",
            "16\n"
          ]
        }
      ]
    },
    {
      "cell_type": "markdown",
      "metadata": {
        "id": "F4r-SmW2DGFo"
      },
      "source": [
        "#**Problem 6**: Determine whether a year is a leap year or not.\n",
        "### For full problem click [here](https://www.hackerrank.com/challenges/write-a-function/problem)"
      ]
    },
    {
      "cell_type": "code",
      "metadata": {
        "id": "80stFVmI5lqr",
        "colab": {
          "base_uri": "https://localhost:8080/",
          "height": 52
        },
        "outputId": "b06c1d74-b50c-49eb-87f2-e7659298987e"
      },
      "source": [
        "def is_leap(year):\n",
        "  1900<=year and year<=10**5\n",
        "  if year%4==0 or (year%100==0 and year%400==0):\n",
        "      result = 'True'\n",
        "  else:\n",
        "      result = 'False'\n",
        "  return result        \n",
        "    \n",
        "year = int(input())\n",
        "is_leap(year)"
      ],
      "execution_count": null,
      "outputs": [
        {
          "name": "stdout",
          "output_type": "stream",
          "text": [
            "1990\n"
          ]
        },
        {
          "output_type": "execute_result",
          "data": {
            "application/vnd.google.colaboratory.intrinsic+json": {
              "type": "string"
            },
            "text/plain": [
              "'False'"
            ]
          },
          "metadata": {},
          "execution_count": 1
        }
      ]
    },
    {
      "cell_type": "markdown",
      "metadata": {
        "id": "hu-wtBnM33oF"
      },
      "source": [
        "#**Problem 7**: Print Function \n",
        "For full problem click [here](https://www.hackerrank.com/challenges/python-print/problem)"
      ]
    },
    {
      "cell_type": "code",
      "metadata": {
        "id": "hfp78Z_04RCn",
        "colab": {
          "base_uri": "https://localhost:8080/"
        },
        "outputId": "255b82d4-5231-4342-e413-60feea76356a"
      },
      "source": [
        "n = int(input())\n",
        "i = range(1,n+1)\n",
        "for m in i:\n",
        "    print(m, end = '')"
      ],
      "execution_count": null,
      "outputs": [
        {
          "output_type": "stream",
          "name": "stdout",
          "text": [
            "3\n",
            "123"
          ]
        }
      ]
    },
    {
      "cell_type": "markdown",
      "metadata": {
        "id": "dJ_m4h8P2e_y"
      },
      "source": [
        "#**Problem 8**: List Compresion\n",
        "For full problem click [here](https://www.hackerrank.com/challenges/list-comprehensions/problem)"
      ]
    },
    {
      "cell_type": "code",
      "metadata": {
        "id": "dywumJRY5lfH",
        "colab": {
          "base_uri": "https://localhost:8080/"
        },
        "outputId": "8a8c306d-f6ec-4a15-d883-b938ffbcabef"
      },
      "source": [
        "if __name__ == '__main__':\n",
        "    x = int(input())\n",
        "    y = int(input())\n",
        "    z = int(input())\n",
        "    n = int(input())\n",
        "    output = [];\n",
        "    abc = [];\n",
        "    for X in range(x+1):\n",
        "        for Y in range(y+1):\n",
        "            for Z in range(z+1):\n",
        "                if X+Y+Z != n:\n",
        "                    abc = [X,Y,Z];\n",
        "                    output.append(abc);\n",
        "    \n",
        "print(output)\n"
      ],
      "execution_count": null,
      "outputs": [
        {
          "output_type": "stream",
          "name": "stdout",
          "text": [
            "2\n",
            "2\n",
            "2\n",
            "2\n",
            "[[0, 0, 0], [0, 0, 1], [0, 1, 0], [0, 1, 2], [0, 2, 1], [0, 2, 2], [1, 0, 0], [1, 0, 2], [1, 1, 1], [1, 1, 2], [1, 2, 0], [1, 2, 1], [1, 2, 2], [2, 0, 1], [2, 0, 2], [2, 1, 0], [2, 1, 1], [2, 1, 2], [2, 2, 0], [2, 2, 1], [2, 2, 2]]\n"
          ]
        }
      ]
    },
    {
      "cell_type": "markdown",
      "metadata": {
        "id": "4iF3XTt0FeFc"
      },
      "source": [
        "# **Problem 9**: Find the runner up score\n",
        "For full problem click [here](https://www.hackerrank.com/challenges/find-second-maximum-number-in-a-list/problem)"
      ]
    },
    {
      "cell_type": "code",
      "metadata": {
        "id": "6ZTp1FkN5lL-",
        "colab": {
          "base_uri": "https://localhost:8080/"
        },
        "outputId": "1474704d-3d1e-4d14-94c1-301c2e645ced"
      },
      "source": [
        "n = int(input())\n",
        "arr = map(int, input().split())\n",
        "print(sorted(list(set(arr)))[-2])\n"
      ],
      "execution_count": null,
      "outputs": [
        {
          "output_type": "stream",
          "name": "stdout",
          "text": [
            "5\n",
            "1 2 3 4 \n",
            "3\n"
          ]
        }
      ]
    },
    {
      "cell_type": "markdown",
      "metadata": {
        "id": "N0cDT_ce3Q3Z"
      },
      "source": [
        "#**Problem 10**: Nested List\n",
        "For full problem click [here](https://www.hackerrank.com/challenges/nested-list/problem?isFullScreen=false)"
      ]
    },
    {
      "cell_type": "code",
      "metadata": {
        "id": "l2kKEedjH3bS",
        "colab": {
          "base_uri": "https://localhost:8080/"
        },
        "outputId": "dfe7e827-cf46-4bb9-dd7e-7914f55b7f16"
      },
      "source": [
        "score_list = []; # First we will declare the  empty list\n",
        "\n",
        "for i in range(int(eval(input()))):\n",
        "    name = str(input())\n",
        "    score = float(eval(input())) \n",
        "\n",
        "    \n",
        "    score_list.append([name, score])\n",
        "second_lowest = sorted(set([score for name, score in score_list]))[1] # sorted function print the values in ascending order.\n",
        "\n",
        "print('\\n'.join(sorted([name for name, score in score_list if score == second_lowest])))\n",
        "#The print statement print the second lowest name of the student who have scored second lowest marks"
      ],
      "execution_count": null,
      "outputs": [
        {
          "output_type": "stream",
          "name": "stdout",
          "text": [
            "5\n",
            "Amit\n",
            "78.9\n",
            "Suresj\n",
            "45.6\n",
            "Ramesh\n",
            "12.3\n",
            "Mangesh\n",
            "85.2\n",
            "Vipesh\n",
            "74.1\n",
            "Suresj\n"
          ]
        }
      ]
    },
    {
      "cell_type": "markdown",
      "metadata": {
        "id": "VEGxWdSH5S9_"
      },
      "source": [
        "#**Problem 11**: Finding the Percentage\n",
        "full problem click [here](https://www.hackerrank.com/challenges/finding-the-percentage/problem?isFullScreen=false)"
      ]
    },
    {
      "cell_type": "code",
      "metadata": {
        "id": "PQ5WTfaLoduW",
        "colab": {
          "base_uri": "https://localhost:8080/"
        },
        "outputId": "cb6628c1-6ff8-4cb8-c29f-3b6337206278"
      },
      "source": [
        " if __name__ == '__main__':\n",
        "    n = int(input())\n",
        "    student_marks = {}\n",
        "    for _ in range(n):\n",
        "        name, *line = input().split() #this will give name and list of string of marks\n",
        "        scores = list(map(float, line)) #converting this list of string into float\n",
        "        student_marks[name] = scores #gives list of marks of a student by entering name\n",
        "    query_name = input() #Takes input as a name of a student from user.\n",
        "    marks = student_marks[query_name] #list of marks of a given student input\n",
        "    print(format(sum(marks)/3, '.2f')) #for getting values upto 2 decimal places we use format function"
      ],
      "execution_count": null,
      "outputs": [
        {
          "output_type": "stream",
          "name": "stdout",
          "text": [
            "4\n",
            "A 36 25 14\n",
            "B 47 58 69\n",
            "C 74 85 96\n",
            "D 14 47 85 69\n",
            "C\n",
            "85.00\n"
          ]
        }
      ]
    },
    {
      "cell_type": "markdown",
      "metadata": {
        "id": "oTweinud6DeS"
      },
      "source": [
        "#**Problem 12**: List\n",
        "full problem click [here](https://www.hackerrank.com/challenges/python-lists/problem?isFullScreen=false)"
      ]
    },
    {
      "cell_type": "code",
      "metadata": {
        "id": "AGApyLL8x5UM",
        "colab": {
          "base_uri": "https://localhost:8080/"
        },
        "outputId": "a7ea599a-67ea-489a-f2bd-e44ec84f7652"
      },
      "source": [
        "N = int(input())\n",
        "lst = []\n",
        "for i in range(N): #So with this operation we have to run for loop N times.\n",
        "    \n",
        "   \n",
        "#Input command will be in the form of string we converted it into list \n",
        "#like insert 10 1 output will be ['insert', '10' '1']\n",
        "    cmd = input().split(' ')\n",
        "\n",
        "         \n",
        "    if cmd[0] == 'insert':\n",
        "        lst.insert(int(cmd[1]), int(cmd[2])) \n",
        "        \n",
        "    elif cmd[0] == 'print':\n",
        "        print(lst)\n",
        "        \n",
        "    elif cmd[0] == 'remove':\n",
        "        lst.remove(int(cmd[1])) #as per question we have to remove value at index 1\n",
        "    \n",
        "    elif cmd[0] == 'append':\n",
        "        lst.append(int(cmd[1])) #as per question we have to append the value at index 1\n",
        "\n",
        "    elif cmd[0] == 'sort': \n",
        "        lst.sort()\n",
        "        \n",
        "    elif cmd[0] == 'pop':\n",
        "        lst.pop()\n",
        "        \n",
        "    else:\n",
        "        lst.reverse()"
      ],
      "execution_count": null,
      "outputs": [
        {
          "output_type": "stream",
          "name": "stdout",
          "text": [
            "12\n",
            "insert 0 5\n",
            "insert 1 0\n",
            "insert 0 6\n",
            "print\n",
            "[6, 5, 0]\n",
            "remove 6\n",
            "append 9\n",
            "append 1\n",
            "sort\n",
            "print\n",
            "[0, 1, 5, 9]\n",
            "pop\n",
            "reverse\n",
            "print\n",
            "[5, 1, 0]\n"
          ]
        }
      ]
    },
    {
      "cell_type": "markdown",
      "metadata": {
        "id": "R7vqFxivHM2K"
      },
      "source": [
        "#**Problem 13**: Tuples\n",
        "Full problem click [here](https://www.hackerrank.com/challenges/python-tuples/problem?isFullScreen=false)"
      ]
    },
    {
      "cell_type": "code",
      "metadata": {
        "id": "HHsdx4jax5Yk",
        "colab": {
          "base_uri": "https://localhost:8080/"
        },
        "outputId": "6835ee63-e7ad-474f-a17f-8f88fc3cd812"
      },
      "source": [
        "if __name__ == '__main__':\n",
        "    n = int(input())\n",
        "    integer_list = map(int, input().split())\n",
        "    t = tuple(integer_list)\n",
        "    print(hash(t))\n",
        "    "
      ],
      "execution_count": null,
      "outputs": [
        {
          "output_type": "stream",
          "name": "stdout",
          "text": [
            "2\n",
            "13\n",
            "3430015387546\n"
          ]
        }
      ]
    },
    {
      "cell_type": "markdown",
      "metadata": {
        "id": "EhUggIQEvqoK"
      },
      "source": [
        "# **Problem 14**: sWAP Case\n",
        "\n",
        "Full problem click [here](https://www.hackerrank.com/challenges/swap-case/problem?isFullScreen=false)\n",
        "\n"
      ]
    },
    {
      "cell_type": "code",
      "metadata": {
        "id": "7gum80CHx5cz",
        "colab": {
          "base_uri": "https://localhost:8080/"
        },
        "outputId": "4916e0d8-f642-41e0-f0e1-7f3b59c9e493"
      },
      "source": [
        "def swap_case(s):\n",
        "    x = ''\n",
        "    for c in s:\n",
        "        if c.isupper():\n",
        "            c = c.lower()\n",
        "            \n",
        "        else:\n",
        "            c = c.upper()\n",
        "        x+= ' '.join(c)\n",
        "    return x\n",
        "        \n",
        "if __name__ == '__main__':\n",
        "    s = input()\n",
        "    result = swap_case(s)\n",
        "    print(result)"
      ],
      "execution_count": null,
      "outputs": [
        {
          "output_type": "stream",
          "name": "stdout",
          "text": [
            "HackerRank.com presents \"Pythonist 2\".\n",
            "hACKERrANK.COM PRESENTS \"pYTHONIST 2\".\n"
          ]
        }
      ]
    },
    {
      "cell_type": "markdown",
      "metadata": {
        "id": "WLLcoSMejJf1"
      },
      "source": [
        "# **Problem 15**: String split and join\n",
        "For full problem click [here](https://www.hackerrank.com/challenges/python-string-split-and-join/problem?isFullScreen=false)."
      ]
    },
    {
      "cell_type": "code",
      "metadata": {
        "id": "DpAprb-nx5hA",
        "colab": {
          "base_uri": "https://localhost:8080/"
        },
        "outputId": "e44f7d74-8ec7-436a-b4c9-018949cc1dcb"
      },
      "source": [
        "def split_and_join(line):\n",
        "    # write your code here\n",
        "    line = line.split(\" \")\n",
        "    line = \"-\".join(line)\n",
        "    return line\n",
        "    \n",
        "if __name__ == '__main__':\n",
        "    line = input()\n",
        "    result = split_and_join(line)\n",
        "    print(result)"
      ],
      "execution_count": null,
      "outputs": [
        {
          "output_type": "stream",
          "name": "stdout",
          "text": [
            "This is a string.\n",
            "This-is-a-string.\n"
          ]
        }
      ]
    },
    {
      "cell_type": "markdown",
      "metadata": {
        "id": "gIwnJNgxUUUs"
      },
      "source": [
        "# **Problem 16**: What's your name?\n",
        "For full problem click [here](https://www.hackerrank.com/challenges/whats-your-name/problem?isFullScreen=false)"
      ]
    },
    {
      "cell_type": "code",
      "metadata": {
        "id": "tJqS0y1Zx5pD",
        "colab": {
          "base_uri": "https://localhost:8080/"
        },
        "outputId": "6476064f-488d-401e-b267-0223682e1c8f"
      },
      "source": [
        "def print_full_name(first, last):\n",
        "    # Write your code here\n",
        "    print(f'Hello {first_name} {last_name}! You just delved into python.')\n",
        "\n",
        "if __name__ == '__main__':\n",
        "    first_name = input()\n",
        "    last_name = input()\n",
        "    print_full_name(first_name, last_name)"
      ],
      "execution_count": null,
      "outputs": [
        {
          "output_type": "stream",
          "name": "stdout",
          "text": [
            "Shubham\n",
            "Dubey\n",
            "Hello Shubham Dubey! You just delved into python.\n"
          ]
        }
      ]
    },
    {
      "cell_type": "markdown",
      "metadata": {
        "id": "17Bs1kHHZYC7"
      },
      "source": [
        "# Problem 17: Mutations\n",
        "For full problem click [here](https://www.hackerrank.com/challenges/python-mutations/problem?isFullScreen=false)"
      ]
    },
    {
      "cell_type": "code",
      "metadata": {
        "id": "M-8c_yakx5s7",
        "colab": {
          "base_uri": "https://localhost:8080/"
        },
        "outputId": "23f18c33-7c6a-4cd8-e183-9404a565e6d4"
      },
      "source": [
        "\n",
        "def mutate_string(string, position, character):\n",
        "    l = list(string)\n",
        "    l[position] = character\n",
        "    l = ''.join(l)\n",
        "    return l\n",
        "    \n",
        "\n",
        "if __name__ == '__main__':\n",
        "    s = input()\n",
        "    i, c = input().split()\n",
        "    s_new = mutate_string(s, int(i), c)\n",
        "    print(s_new)\n",
        "    "
      ],
      "execution_count": null,
      "outputs": [
        {
          "output_type": "stream",
          "name": "stdout",
          "text": [
            "abcdfghij\n",
            "4 e\n",
            "abcdeghij\n"
          ]
        }
      ]
    },
    {
      "cell_type": "markdown",
      "metadata": {
        "id": "DTNHE_bEgxuj"
      },
      "source": [
        "# **Problem 18**: Find a String\n",
        "For full problem click [here](https://www.hackerrank.com/challenges/find-a-string/problem?isFullScreen=false)"
      ]
    },
    {
      "cell_type": "code",
      "metadata": {
        "id": "oeAq6JpYZ53_",
        "colab": {
          "base_uri": "https://localhost:8080/"
        },
        "outputId": "da21ba17-151f-4bd3-b2d9-fdffb83ec7eb"
      },
      "source": [
        "def count_substring(string, sub_string):\n",
        "  sl = len(string) # Find the lenght of the main string\n",
        "  ssl = len(sub_string) # Find the lenght of substring\n",
        "  c = 0 # intial value to be zero\n",
        "\n",
        "  for i in range(sl-ssl+1): # The range is so chosen because python counting starts from zero.\n",
        "    if (string[i:(i+ssl)]) == sub_string:\n",
        "      c +=1\n",
        "\n",
        "  return c\n",
        "\n",
        "\n",
        "if __name__ == '__main__':\n",
        "    string = input().strip() # Strip function removes the spaces in front and back of the string.\n",
        "    sub_string = input().strip()\n",
        "    \n",
        "    count = count_substring(string, sub_string)\n",
        "    print(count)"
      ],
      "execution_count": null,
      "outputs": [
        {
          "output_type": "stream",
          "name": "stdout",
          "text": [
            "ABCDECDE\n",
            "CDE\n",
            "2\n"
          ]
        }
      ]
    },
    {
      "cell_type": "markdown",
      "metadata": {
        "id": "bc9DfqUMt53_"
      },
      "source": [
        "# **Problem 19**: String Validators\n",
        "full problem click [here](https://www.hackerrank.com/challenges/string-validators/problem?isFullScreen=false)"
      ]
    },
    {
      "cell_type": "code",
      "metadata": {
        "id": "hiG-yUWOZ57c",
        "colab": {
          "base_uri": "https://localhost:8080/"
        },
        "outputId": "a5c3e42c-0d56-4ee5-f05a-a70189d1f003"
      },
      "source": [
        "# Here we will use any function\n",
        "# The any function returns True if any item in an iterable are true otherwise it will return False\n",
        "# If the iterable object is empty it will return false\n",
        "\n",
        "if __name__ == '__main__':\n",
        "    s = str(input())\n",
        "    print(any([i.isalnum() for i in s]))\n",
        "    print(any([i.isalpha() for i in s]))\n",
        "    print(any([i.isdigit() for i in s]))\n",
        "    print(any([i.islower() for i in s]))\n",
        "    print(any([i.isupper() for i in s]))\n",
        "        "
      ],
      "execution_count": null,
      "outputs": [
        {
          "output_type": "stream",
          "name": "stdout",
          "text": [
            "qA2\n",
            "True\n",
            "True\n",
            "True\n",
            "True\n",
            "True\n"
          ]
        }
      ]
    },
    {
      "cell_type": "markdown",
      "metadata": {
        "id": "NqXdGetS1H2X"
      },
      "source": [
        "## **Problem 20**: Text Aligment\n",
        "full problem click [here](https://www.hackerrank.com/challenges/text-alignment/problem?isFullScreen=false&h_r=next-challenge&h_v=zen)"
      ]
    },
    {
      "cell_type": "code",
      "metadata": {
        "id": "Z_uNPEuhZ5-6",
        "colab": {
          "base_uri": "https://localhost:8080/"
        },
        "outputId": "a852d566-ac13-4cf1-b22a-f8d34710f0f8"
      },
      "source": [
        "thickness = int(input()) #This must be an odd number\n",
        "c = 'H'\n",
        "\n",
        "#Top Cone\n",
        "for i in range(thickness):\n",
        "    print((c*i).rjust(thickness-1)+c+(c*i).ljust(thickness-1))\n",
        "\n",
        "#Top Pillars\n",
        "for i in range(thickness+1):\n",
        "    print((c*thickness).center(thickness*2)+(c*thickness).center(thickness*6))\n",
        "\n",
        "#Middle Belt\n",
        "for i in range((thickness+1)//2):\n",
        "    print((c*thickness*5).center(thickness*6))    \n",
        "\n",
        "#Bottom Pillars\n",
        "for i in range(thickness+1):\n",
        "    print((c*thickness).center(thickness*2)+(c*thickness).center(thickness*6))    \n",
        "\n",
        "#Bottom Cone\n",
        "for i in range(thickness):\n",
        "    print(((c*(thickness-i-1)).rjust(thickness)+c+(c*(thickness-i-1)).ljust(thickness)).rjust(thickness*6))"
      ],
      "execution_count": null,
      "outputs": [
        {
          "output_type": "stream",
          "name": "stdout",
          "text": [
            "10\n",
            "         H         \n",
            "        HHH        \n",
            "       HHHHH       \n",
            "      HHHHHHH      \n",
            "     HHHHHHHHH     \n",
            "    HHHHHHHHHHH    \n",
            "   HHHHHHHHHHHHH   \n",
            "  HHHHHHHHHHHHHHH  \n",
            " HHHHHHHHHHHHHHHHH \n",
            "HHHHHHHHHHHHHHHHHHH\n",
            "     HHHHHHHHHH                              HHHHHHHHHH                         \n",
            "     HHHHHHHHHH                              HHHHHHHHHH                         \n",
            "     HHHHHHHHHH                              HHHHHHHHHH                         \n",
            "     HHHHHHHHHH                              HHHHHHHHHH                         \n",
            "     HHHHHHHHHH                              HHHHHHHHHH                         \n",
            "     HHHHHHHHHH                              HHHHHHHHHH                         \n",
            "     HHHHHHHHHH                              HHHHHHHHHH                         \n",
            "     HHHHHHHHHH                              HHHHHHHHHH                         \n",
            "     HHHHHHHHHH                              HHHHHHHHHH                         \n",
            "     HHHHHHHHHH                              HHHHHHHHHH                         \n",
            "     HHHHHHHHHH                              HHHHHHHHHH                         \n",
            "     HHHHHHHHHHHHHHHHHHHHHHHHHHHHHHHHHHHHHHHHHHHHHHHHHH     \n",
            "     HHHHHHHHHHHHHHHHHHHHHHHHHHHHHHHHHHHHHHHHHHHHHHHHHH     \n",
            "     HHHHHHHHHHHHHHHHHHHHHHHHHHHHHHHHHHHHHHHHHHHHHHHHHH     \n",
            "     HHHHHHHHHHHHHHHHHHHHHHHHHHHHHHHHHHHHHHHHHHHHHHHHHH     \n",
            "     HHHHHHHHHHHHHHHHHHHHHHHHHHHHHHHHHHHHHHHHHHHHHHHHHH     \n",
            "     HHHHHHHHHH                              HHHHHHHHHH                         \n",
            "     HHHHHHHHHH                              HHHHHHHHHH                         \n",
            "     HHHHHHHHHH                              HHHHHHHHHH                         \n",
            "     HHHHHHHHHH                              HHHHHHHHHH                         \n",
            "     HHHHHHHHHH                              HHHHHHHHHH                         \n",
            "     HHHHHHHHHH                              HHHHHHHHHH                         \n",
            "     HHHHHHHHHH                              HHHHHHHHHH                         \n",
            "     HHHHHHHHHH                              HHHHHHHHHH                         \n",
            "     HHHHHHHHHH                              HHHHHHHHHH                         \n",
            "     HHHHHHHHHH                              HHHHHHHHHH                         \n",
            "     HHHHHHHHHH                              HHHHHHHHHH                         \n",
            "                                        HHHHHHHHHHHHHHHHHHH \n",
            "                                         HHHHHHHHHHHHHHHHH  \n",
            "                                          HHHHHHHHHHHHHHH   \n",
            "                                           HHHHHHHHHHHHH    \n",
            "                                            HHHHHHHHHHH     \n",
            "                                             HHHHHHHHH      \n",
            "                                              HHHHHHH       \n",
            "                                               HHHHH        \n",
            "                                                HHH         \n",
            "                                                 H          \n"
          ]
        }
      ]
    },
    {
      "cell_type": "markdown",
      "metadata": {
        "id": "eygdkirH1y-J"
      },
      "source": [
        "## Problem 21: Text Wrap\n",
        "\n",
        "full problem click [here](https://www.hackerrank.com/challenges/text-wrap/problem?isFullScreen=false&h_r=next-challenge&h_v=zen&h_r=next-challenge&h_v=zen)"
      ]
    },
    {
      "cell_type": "code",
      "metadata": {
        "id": "IOQ8bM00Z6Ck"
      },
      "source": [
        ""
      ],
      "execution_count": null,
      "outputs": []
    },
    {
      "cell_type": "code",
      "metadata": {
        "id": "cDQeuGEPZ6Ft"
      },
      "source": [
        ""
      ],
      "execution_count": null,
      "outputs": []
    },
    {
      "cell_type": "code",
      "metadata": {
        "id": "rjVWY6wFZ6JE"
      },
      "source": [
        ""
      ],
      "execution_count": null,
      "outputs": []
    }
  ]
}